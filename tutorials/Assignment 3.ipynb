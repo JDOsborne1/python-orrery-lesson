{
 "cells": [
  {
   "cell_type": "code",
   "execution_count": null,
   "metadata": {
    "collapsed": false
   },
   "outputs": [
    {
     "data": {
      "application/javascript": [
       "require.undef(\"nbextensions/jquery-ui.custom.min\");"
      ],
      "text/plain": [
       "<IPython.core.display.Javascript object>"
      ]
     },
     "metadata": {},
     "output_type": "display_data"
    },
    {
     "data": {
      "application/javascript": [
       "require.undef(\"nbextensions/glow.2.1.min\");"
      ],
      "text/plain": [
       "<IPython.core.display.Javascript object>"
      ]
     },
     "metadata": {},
     "output_type": "display_data"
    },
    {
     "data": {
      "application/javascript": [
       "require.undef(\"nbextensions/glowcomm\");"
      ],
      "text/plain": [
       "<IPython.core.display.Javascript object>"
      ]
     },
     "metadata": {},
     "output_type": "display_data"
    },
    {
     "data": {
      "application/javascript": [
       "require.undef(\"nbextensions/pako.min\");"
      ],
      "text/plain": [
       "<IPython.core.display.Javascript object>"
      ]
     },
     "metadata": {},
     "output_type": "display_data"
    },
    {
     "data": {
      "application/javascript": [
       "require.undef(\"nbextensions/pako_deflate.min\");"
      ],
      "text/plain": [
       "<IPython.core.display.Javascript object>"
      ]
     },
     "metadata": {},
     "output_type": "display_data"
    },
    {
     "data": {
      "application/javascript": [
       "require.undef(\"nbextensions/pako_inflate.min\");"
      ],
      "text/plain": [
       "<IPython.core.display.Javascript object>"
      ]
     },
     "metadata": {},
     "output_type": "display_data"
    },
    {
     "data": {
      "application/javascript": [
       "require([\"nbextensions/glowcomm\"], function(){console.log(\"glowcomm loaded\");})"
      ],
      "text/plain": [
       "<IPython.core.display.Javascript object>"
      ]
     },
     "metadata": {},
     "output_type": "display_data"
    },
    {
     "data": {
      "text/html": [
       "<div id=\"glowscript\" class=\"glowscript\"></div>"
      ],
      "text/plain": [
       "<IPython.core.display.HTML object>"
      ]
     },
     "metadata": {},
     "output_type": "display_data"
    },
    {
     "data": {
      "application/javascript": [
       "window.__context = { glowscript_container: $(\"#glowscript\").removeAttr(\"id\")}"
      ],
      "text/plain": [
       "<IPython.core.display.Javascript object>"
      ]
     },
     "metadata": {},
     "output_type": "display_data"
    },
    {
     "name": "stdout",
     "output_type": "stream",
     "text": [
      "Welcome to planet simulator\n",
      "Please choose the method you would like to use (E for Euler, M for midpoint, R for Runge-Kutta)E\n",
      "You have chose the E Method\n"
     ]
    },
    {
     "data": {
      "text/html": [
       "<div id=\"glowscript\" class=\"glowscript\"></div>"
      ],
      "text/plain": [
       "<IPython.core.display.HTML object>"
      ]
     },
     "metadata": {},
     "output_type": "display_data"
    },
    {
     "data": {
      "application/javascript": [
       "window.__context = { glowscript_container: $(\"#glowscript\").removeAttr(\"id\")}"
      ],
      "text/plain": [
       "<IPython.core.display.Javascript object>"
      ]
     },
     "metadata": {},
     "output_type": "display_data"
    }
   ],
   "source": [
    "import vpython as vp\n",
    "import csv\n",
    "import numpy as np\n",
    "\n",
    "print(\"Welcome to planet simulator\")\n",
    "\n",
    "G=6.67e-11\n",
    "Ms=1.99e30\n",
    "Me=5.97e24\n",
    "Mm=6.42e23\n",
    "\n",
    "Method=input(\"Please choose the method you would like to use (E for Euler, M for midpoint, R for Runge-Kutta)\")\n",
    "while Method != \"E\" and Method != \"M\" and Method != \"R\":\n",
    "    print(\"Not a valid input, try again.\")\n",
    "    Method = input(\"Please choose the method you would like to use (E for Euler, M for midpoint, R for Runge-Kutta)\")\n",
    "print(\"You have chose the\",Method,\"Method\")\n",
    "scene=vp.canvas()\n",
    "Sun=vp.sphere(radius=3e10,pos=vp.vector(0,0,0),color=vp.vector(1,1,0),velocity=vp.vector(0,0,0))\n",
    "Earth=vp.sphere(radius=1.8e10,pos=vp.vector(-1.47e11,0,0),color=vp.vector(0.3,0.4,1),velocity=vp.vector(0,-30290,0),make_trail=True)\n",
    "Mars=vp.sphere(radius=1.7e10,pos=vp.vector(0,-2.07e11,0),color=vp.vector(1,0.6,0.6),velocity=vp.vector(26500,0,0),make_trail=True)\n",
    "\n",
    "def derivatives(t,y):\n",
    "    dydt=y[4:]\n",
    "    \n",
    "    dydt.append(-(G*Ms*y[0])/((y[0]**2+y[2]**2)**(3/2))+G*Mm*(y[1]-y[0])/((y[1]-y[0])**2+(y[3]-y[2])**2)**(3/2))\n",
    "    dydt.append(-(G*Ms*y[1])/((y[1]**2+y[3]**2)**(3/2))-G*Me*(y[1]-y[0])/((y[1]-y[0])**2+(y[3]-y[2])**2)**(3/2))\n",
    "    dydt.append(-(G*Ms*y[2])/((y[0]**2+y[2]**2)**(3/2))+G*Mm*(y[3]-y[2])/((y[1]-y[0])**2+(y[3]-y[2])**2)**(3/2))\n",
    "    dydt.append(-(G*Ms*y[3])/((y[1]**2+y[3]**2)**(3/2))-G*Me*(y[3]-y[2])/((y[1]-y[0])**2+(y[3]-y[2])**2)**(3/2)) \n",
    "    return dydt\n",
    "\n",
    "def constant(t,y,f,h):\n",
    "    y_new=[]\n",
    "    for i in range(len(y)):\n",
    "        new_y=y[i]+h*f[i]\n",
    "        y_new.append(new_y)\n",
    "    return y_new\n",
    "\n",
    "def euler_step(t,y,h):\n",
    "    s=constant(t,y,derivatives(t,y),h)\n",
    "    return s\n",
    "\n",
    "def m_p(t,y,h):\n",
    "    s1=constant(t,y,derivatives(t,y),h/2)\n",
    "    return constant(t,y,derivatives(t,s1),h)\n",
    "    \n",
    "def r_k(t,y,h):\n",
    "    list=[]\n",
    "    for i in range(len(y)):\n",
    "        f1=derivatives(t,y)\n",
    "        f2=derivatives(t+(h/2),constant(t,y,f1,h/2))\n",
    "        f3=derivatives(t+(h/2),constant(t,y,f2,h/2))\n",
    "        f4=derivatives(t+h,constant(t,y,f3,h))\n",
    "        list.append(y[i]+((f1[i]/6)+(f2[i]/3)+(f3[i]/3)+(f4[i]/6))*h)\n",
    "    return list\n",
    "        \n",
    "    \n",
    "n=int(input(\"How many years would you like to run it for\")) * (24*3600*365)\n",
    "h=float(input(\"What would you like the time step to be?\"))\n",
    "        \n",
    "if Method == \"E\":\n",
    "    \n",
    "    while n>0:\n",
    "        for t in np.arange(0.,n,h):\n",
    "            vp.rate(100)\n",
    "        \n",
    "            y_new = euler_step(t*h,[Earth.pos.x,Mars.pos.x,Earth.pos.y,Mars.pos.y,Earth.velocity.x,Mars.velocity.x,Earth.velocity.y, Mars.velocity.y],h)\n",
    "            Earth.pos.x=y_new[0]\n",
    "            Earth.pos.y=y_new[2]\n",
    "            Mars.pos.x=y_new[1]\n",
    "            Mars.pos.y=y_new[3]\n",
    "            Earth.velocity.x=y_new[4]\n",
    "            Earth.velocity.y=y_new[6]\n",
    "            Mars.velocity.x=y_new[5]\n",
    "            Mars.velocity.y=y_new[7]\n",
    "        n = 0\n",
    "        print(\"Inputted time has elapsed. Please input another time\")\n",
    "        n=(n+float(input(\"Please enter another time interval (0 to stop)\")))*24*365*3600 \n",
    "    \n",
    "elif Method==\"M\":\n",
    "    print(\"You have chosen the midpoint method\")\n",
    "    while n>0:       \n",
    "    \n",
    "        for t in np.arange(0.,n,h):\n",
    "            vp.rate(100)\n",
    "        \n",
    "            y_new = m_p(t*h,[Earth.pos.x,Mars.pos.x,Earth.pos.y,Mars.pos.y,Earth.velocity.x,Mars.velocity.x,Earth.velocity.y, Mars.velocity.y],h)\n",
    "            Earth.pos.x=y_new[0]\n",
    "            Earth.pos.y=y_new[2]\n",
    "            Mars.pos.x=y_new[1]\n",
    "            Mars.pos.y=y_new[3]\n",
    "            Earth.velocity.x=y_new[4]\n",
    "            Earth.velocity.y=y_new[6]\n",
    "            Mars.velocity.x=y_new[5]\n",
    "            Mars.velocity.y=y_new[7]\n",
    "        n = 0\n",
    "        print(\"Inputted time has elapsed. Please input another time\")\n",
    "        n=(n+float(input(\"Please enter another time interval (0 to stop)\")))*24*365*3600\n",
    "   \n",
    "    \n",
    "elif Method==\"R\":\n",
    "    \n",
    "    while n>0:\n",
    "        for t in np.arange(0.,n,h):\n",
    "            vp.rate(100)\n",
    "        \n",
    "            y_new = r_k(t*h,[Earth.pos.x,Mars.pos.x,Earth.pos.y,Mars.pos.y,Earth.velocity.x,Mars.velocity.x,Earth.velocity.y, Mars.velocity.y],h)\n",
    "            Earth.pos.x=y_new[0]\n",
    "            Earth.pos.y=y_new[2]\n",
    "            Mars.pos.x=y_new[1]\n",
    "            Mars.pos.y=y_new[3]\n",
    "            Earth.velocity.x=y_new[4]\n",
    "            Earth.velocity.y=y_new[6]\n",
    "            Mars.velocity.x=y_new[5]\n",
    "            Mars.velocity.y=y_new[7]\n",
    "        n = 0\n",
    "        print(\"Inputted time has elapsed. Please input another time\")\n",
    "        n=(n+float(input(\"Please enter another time interval (0 to stop)\")))*24*365*3600\n",
    "       \n",
    "    \n",
    "else:\n",
    "    print(\"Please input E,M or R\")\n",
    "\n",
    "    \n",
    "\n",
    "print(\"Thank you for playing planet simulator. Come again\")\n"
   ]
  },
  {
   "cell_type": "code",
   "execution_count": 1,
   "metadata": {
    "collapsed": false
   },
   "outputs": [
    {
     "data": {
      "application/javascript": [
       "require.undef(\"nbextensions/jquery-ui.custom.min\");"
      ],
      "text/plain": [
       "<IPython.core.display.Javascript object>"
      ]
     },
     "metadata": {},
     "output_type": "display_data"
    },
    {
     "data": {
      "application/javascript": [
       "require.undef(\"nbextensions/glow.2.1.min\");"
      ],
      "text/plain": [
       "<IPython.core.display.Javascript object>"
      ]
     },
     "metadata": {},
     "output_type": "display_data"
    },
    {
     "data": {
      "application/javascript": [
       "require.undef(\"nbextensions/glowcomm\");"
      ],
      "text/plain": [
       "<IPython.core.display.Javascript object>"
      ]
     },
     "metadata": {},
     "output_type": "display_data"
    },
    {
     "data": {
      "application/javascript": [
       "require.undef(\"nbextensions/pako.min\");"
      ],
      "text/plain": [
       "<IPython.core.display.Javascript object>"
      ]
     },
     "metadata": {},
     "output_type": "display_data"
    },
    {
     "data": {
      "application/javascript": [
       "require.undef(\"nbextensions/pako_deflate.min\");"
      ],
      "text/plain": [
       "<IPython.core.display.Javascript object>"
      ]
     },
     "metadata": {},
     "output_type": "display_data"
    },
    {
     "data": {
      "application/javascript": [
       "require.undef(\"nbextensions/pako_inflate.min\");"
      ],
      "text/plain": [
       "<IPython.core.display.Javascript object>"
      ]
     },
     "metadata": {},
     "output_type": "display_data"
    },
    {
     "data": {
      "application/javascript": [
       "require([\"nbextensions/glowcomm\"], function(){console.log(\"glowcomm loaded\");})"
      ],
      "text/plain": [
       "<IPython.core.display.Javascript object>"
      ]
     },
     "metadata": {},
     "output_type": "display_data"
    },
    {
     "data": {
      "text/html": [
       "<div id=\"glowscript\" class=\"glowscript\"></div>"
      ],
      "text/plain": [
       "<IPython.core.display.HTML object>"
      ]
     },
     "metadata": {},
     "output_type": "display_data"
    },
    {
     "data": {
      "application/javascript": [
       "window.__context = { glowscript_container: $(\"#glowscript\").removeAttr(\"id\")}"
      ],
      "text/plain": [
       "<IPython.core.display.Javascript object>"
      ]
     },
     "metadata": {},
     "output_type": "display_data"
    }
   ],
   "source": [
    "import csv\n",
    "import vpython as v\n",
    "scene=v.canvas\n",
    "with open(\"P:\\Downloads\\planets.csv\",'r') as f:\n",
    "    file_reader=csv.reader(f,delimiter=',')\n",
    "    for line in file_reader:\n",
    "        planet=v.sphere(pos=v.vector(float(line[0]),float(line[1]),float(line[2]))\n",
    "                       ,velocity=v.vector(float(line[3]),float(line[4]),float(line[5])),radius=float(line[7]),color=v.vector(float(line[8]),float(line[9]),float(line[10])))\n",
    "        "
   ]
  },
  {
   "cell_type": "code",
   "execution_count": null,
   "metadata": {
    "collapsed": true
   },
   "outputs": [],
   "source": []
  }
 ],
 "metadata": {
  "kernelspec": {
   "display_name": "Python [Root]",
   "language": "python",
   "name": "Python [Root]"
  },
  "language_info": {
   "codemirror_mode": {
    "name": "ipython",
    "version": 3
   },
   "file_extension": ".py",
   "mimetype": "text/x-python",
   "name": "python",
   "nbconvert_exporter": "python",
   "pygments_lexer": "ipython3",
   "version": "3.5.2"
  }
 },
 "nbformat": 4,
 "nbformat_minor": 0
}
