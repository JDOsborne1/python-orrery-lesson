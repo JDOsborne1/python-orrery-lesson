{
 "cells": [
  {
   "cell_type": "markdown",
   "metadata": {},
   "source": [
    "# Python Structures and Iterators\n",
    "This notebook introduces some python structures and iterators. These will allow you to implement vector mathematics in code, and work with time based systems."
   ]
  },
  {
   "cell_type": "markdown",
   "metadata": {},
   "source": [
    "## Introduction\n",
    "\n",
    "We'll go through the following structures here:\n",
    "\n",
    "1. `For` loops\n",
    "1. `If` statement"
   ]
  },
  {
   "cell_type": "markdown",
   "metadata": {},
   "source": [
    "## Part 1"
   ]
  },
  {
   "cell_type": "code",
   "execution_count": 1,
   "metadata": {},
   "outputs": [],
   "source": [
    "### Task 1 For loops in the open"
   ]
  },
  {
   "cell_type": "code",
   "execution_count": 2,
   "metadata": {},
   "outputs": [],
   "source": [
    "### Task 2 For loops on variables"
   ]
  },
  {
   "cell_type": "markdown",
   "metadata": {},
   "source": [
    "## Part 2 If statements\n",
    "\n",
    "`if` statements are the way that we instruct the code to change its behaviour based on a condition. It operates on the fairly simple principle of a switch. each `if` statement contains a condition, this is the switch. If that condition evaluates to true, then the code within the statement is run (Switch is on). However if the statement is false, then the code within is skipped.\n",
    "Example"
   ]
  },
  {
   "cell_type": "code",
   "execution_count": 10,
   "metadata": {},
   "outputs": [
    {
     "name": "stdout",
     "output_type": "stream",
     "text": [
      "I'm always talking\n",
      "I'm shy\n"
     ]
    }
   ],
   "source": [
    "## Always on\n",
    "if True :\n",
    "    print(\"I'm always talking\")\n",
    "# Always off\n",
    "if False : \n",
    "    print(\"I never talk\")\n",
    "# Sometimes on, sometimes off\n",
    "x = 2\n",
    "if x==3:\n",
    "    print(\"I'm shy\")"
   ]
  },
  {
   "cell_type": "markdown",
   "metadata": {},
   "source": [
    "### Or else!\n",
    "\n",
    "There is also a command called `else`. This command is used when you want to provide an alternative process which only runs if the first process fails.\n",
    "\n",
    "For example"
   ]
  },
  {
   "cell_type": "code",
   "execution_count": 21,
   "metadata": {},
   "outputs": [
    {
     "name": "stdout",
     "output_type": "stream",
     "text": [
      "Prints only if test is false\n"
     ]
    }
   ],
   "source": [
    "Test = False\n",
    "\n",
    "if (Test):\n",
    "    print(\"Test is on\")\n",
    "else:\n",
    "    print(\"Prints only if test is false\")"
   ]
  },
  {
   "cell_type": "markdown",
   "metadata": {},
   "source": [
    "## Task 1: If this then what\n",
    "\n",
    "Make a short programme which takes an input, and if it is a `string` then print the string back, and if it is a number, then print the square of it back.\n",
    "\n",
    "This task will require you to make use of the `type` function. This exposes the underlying property that python variables have. All variables have a type. This is what tells python how to handle the variable when combining, or performing operations.\n",
    "\n",
    "Example 1: Adding\n",
    "The same thing can be represented with different types, the two most used are integer and string. A number represented alone is an integer, but when it has quotation marks `''`, then it is considered a string\n",
    "\n",
    "### Combining same type"
   ]
  },
  {
   "cell_type": "code",
   "execution_count": 22,
   "metadata": {},
   "outputs": [
    {
     "name": "stdout",
     "output_type": "stream",
     "text": [
      "<class 'str'>\n",
      "<class 'int'>\n",
      "<class 'float'>\n"
     ]
    },
    {
     "data": {
      "text/plain": [
       "'11'"
      ]
     },
     "execution_count": 22,
     "metadata": {},
     "output_type": "execute_result"
    }
   ],
   "source": [
    "\n",
    "print(type('1'))\n",
    "print(type(1))\n",
    "print(type(1.0))\n",
    "\n",
    "# When adding two numbers together, you get the result\n",
    "1+1\n",
    "\n",
    "# however if you add those two numbers as strings then you get something different\n",
    "'1'+'1'\n",
    "\n"
   ]
  },
  {
   "cell_type": "markdown",
   "metadata": {},
   "source": [
    "### Combining different types\n",
    "Since types quantify the way that we handle a variable, often if we try to combine two variables of different types then python gets confused."
   ]
  },
  {
   "cell_type": "code",
   "execution_count": 28,
   "metadata": {},
   "outputs": [
    {
     "ename": "TypeError",
     "evalue": "unsupported operand type(s) for +: 'int' and 'str'",
     "output_type": "error",
     "traceback": [
      "\u001b[1;31m---------------------------------------------------------------------------\u001b[0m",
      "\u001b[1;31mTypeError\u001b[0m                                 Traceback (most recent call last)",
      "\u001b[1;32m<ipython-input-28-7ff5cb60d31b>\u001b[0m in \u001b[0;36m<module>\u001b[1;34m\u001b[0m\n\u001b[1;32m----> 1\u001b[1;33m \u001b[1;36m1\u001b[0m \u001b[1;33m+\u001b[0m \u001b[1;34m'1'\u001b[0m\u001b[1;33m\u001b[0m\u001b[1;33m\u001b[0m\u001b[0m\n\u001b[0m",
      "\u001b[1;31mTypeError\u001b[0m: unsupported operand type(s) for +: 'int' and 'str'"
     ]
    }
   ],
   "source": [
    "1 + '1'"
   ]
  },
  {
   "cell_type": "markdown",
   "metadata": {},
   "source": [
    "\n",
    "Importantly, types which describe the same sort of thing will normally be compatible. \n",
    "#### Bonus Question: when you combine an int (integer) and a float (decimal) what type will the answer be?\n"
   ]
  },
  {
   "cell_type": "code",
   "execution_count": 29,
   "metadata": {},
   "outputs": [],
   "source": [
    "# type(1 + 1.0)\n"
   ]
  },
  {
   "cell_type": "code",
   "execution_count": 31,
   "metadata": {},
   "outputs": [],
   "source": [
    "## Solving Task 1\n",
    "\n",
    "input_variable = \"\"\n",
    "# is it a string\n",
    "#if blah :\n",
    "# action for blah\n",
    "# if bleugh :\n",
    "# action for bleugh\n"
   ]
  },
  {
   "cell_type": "markdown",
   "metadata": {},
   "source": [
    "## Extension: Combining the two\n",
    "\n",
    "For all the numbers in the range 1 to 20. Tell me all the numbers which are divisible by three\n",
    "\n",
    "You may ask, how do I tell if a number is divisible by 3. There are lots of ways, but this is a useful time to explore `functions` which wrap up complex behaviour in an easy step.\n",
    "\n",
    "Example below"
   ]
  },
  {
   "cell_type": "code",
   "execution_count": 50,
   "metadata": {},
   "outputs": [
    {
     "name": "stdout",
     "output_type": "stream",
     "text": [
      "3\n",
      "9\n"
     ]
    }
   ],
   "source": [
    "# defining the name of the function\n",
    "def test_function(input_1, input_2):\n",
    "    # The body of the function, what to do with the inputs\n",
    "    output = input_1 + input_2\n",
    "    return(output)\n",
    "print(test_function(1, 2))\n",
    "print(test_function(4, 5))"
   ]
  },
  {
   "cell_type": "markdown",
   "metadata": {},
   "source": [
    "As you can see from above, we were able to wrap the behaviour of addition in our function `test_function`. A useful way to check if a number is divisible by three is to wrap our logic for testing it in our head, into a function. Lets call that `divis_by_3`\n",
    "\n",
    "There are lots of ways to define divisibility. I'll provide a logic here, but you can use your own if you want.\n",
    "A number `x`, is divisible by `y` if `x` can be divided by `y` with no remainder.\n",
    "Then we need to find the remainder of a division.\n",
    "the remainder is the integer part of a number removed from the decimal part. so the way we would calculate the remainder of 4/3 is `4/3 - int(4/3)` where the second part is just the integer part.\n",
    "as such all you have to do is calculate that result for any `x` and `y` and check if it is zero"
   ]
  },
  {
   "cell_type": "code",
   "execution_count": 51,
   "metadata": {},
   "outputs": [],
   "source": []
  },
  {
   "cell_type": "code",
   "execution_count": null,
   "metadata": {},
   "outputs": [],
   "source": []
  },
  {
   "cell_type": "code",
   "execution_count": null,
   "metadata": {},
   "outputs": [],
   "source": []
  }
 ],
 "metadata": {
  "kernelspec": {
   "display_name": "Python 3",
   "language": "python",
   "name": "python3"
  },
  "language_info": {
   "codemirror_mode": {
    "name": "ipython",
    "version": 3
   },
   "file_extension": ".py",
   "mimetype": "text/x-python",
   "name": "python",
   "nbconvert_exporter": "python",
   "pygments_lexer": "ipython3",
   "version": "3.7.2"
  }
 },
 "nbformat": 4,
 "nbformat_minor": 4
}
