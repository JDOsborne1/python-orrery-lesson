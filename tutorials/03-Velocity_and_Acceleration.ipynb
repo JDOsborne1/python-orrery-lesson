{
 "cells": [
  {
   "cell_type": "markdown",
   "metadata": {},
   "source": [
    "# Velocity and Acceleration\n",
    " This notebook will build on the concept of vector position, and introduce vector velocity and Acceleration.\n",
    " "
   ]
  },
  {
   "cell_type": "code",
   "execution_count": 4,
   "metadata": {},
   "outputs": [],
   "source": [
    "## Imports\n",
    "import numpy as np"
   ]
  },
  {
   "cell_type": "code",
   "execution_count": 5,
   "metadata": {},
   "outputs": [],
   "source": [
    "# Some advanced stuff just so we can plot the trajectory of the objects we are playing with\n",
    "import matplotlib.pyplot as plt\n",
    "%matplotlib inline\n",
    "def show_vels(velocities):\n",
    "    x_vals = list()\n",
    "    y_vals = list()\n",
    "    for i in velocities:\n",
    "        x_vals.append(i[0])\n",
    "        y_vals.append(i[1])\n",
    "    plt.plot(x_vals, y_vals)"
   ]
  },
  {
   "cell_type": "markdown",
   "metadata": {},
   "source": [
    "So you are likely familiar with speed. This is a measure of the distance covered over time, which you can infer from the units, miles per hour, metres per second. The step we're making when speed becomes velocity is to give it a direction. 40 miles per hour is a speed, 40 miles per hour _north_ is a velocity.\n",
    "\n",
    "The terms used for these two kinds of value, are:\n",
    "1. **_Scalar_**: Objects which only have a magnitude (size)\n",
    "1. **_Vector_**: Objects which have both a magnitude and a direction\n"
   ]
  },
  {
   "cell_type": "markdown",
   "metadata": {},
   "source": [
    "## Distance and Displacement\n",
    "\n",
    "Calculating distance and displacement is a linked task. \n",
    "\n",
    "if you start with two points on a chart, say the cricket and the worm from the previous task, you can find the vector displacement easily. Just subtract the positions of your origin and destination. What you are left with is a vector describing the steps in each dimension to take to get from one place to the next. "
   ]
  },
  {
   "cell_type": "markdown",
   "metadata": {},
   "source": [
    "### Example 1.1\n",
    "Review of the cricket and worm movement from the first session\n",
    "\n",
    "Using these two locations as reference pieces. There are two ways to describe the position change. \n",
    "\n",
    "1. The **Scalar**: Distance, just the number representing the straight line movement\n",
    "1. The **Vector**: Displacement, the a vector representing the movement with the specifics of direction"
   ]
  },
  {
   "cell_type": "code",
   "execution_count": 6,
   "metadata": {},
   "outputs": [
    {
     "name": "stdout",
     "output_type": "stream",
     "text": [
      "[-4  6  0]\n",
      "[ 4 -6  0]\n"
     ]
    }
   ],
   "source": [
    "cricket = np.array([1,8,0])\n",
    "worm = np.array([5,2,0])\n",
    "\n",
    "print(cricket-worm)\n",
    "print(worm-cricket)\n",
    "\n",
    "worm2cricket = cricket-worm"
   ]
  },
  {
   "cell_type": "markdown",
   "metadata": {},
   "source": [
    "### Distance travelled\n",
    "If you only want the number of steps taken on a grid, then you can just add the numbers up. \n",
    "\n",
    "#### Example 1.2"
   ]
  },
  {
   "cell_type": "code",
   "execution_count": 7,
   "metadata": {},
   "outputs": [
    {
     "name": "stdout",
     "output_type": "stream",
     "text": [
      "[-4  6  0]\n",
      "[4 6 0]\n",
      "10\n"
     ]
    }
   ],
   "source": [
    "path = cricket-worm\n",
    "# show the steps to travel\n",
    "print(path)\n",
    "# get the absolute distance travelled in each direction\n",
    "print(abs(path))\n",
    "# Add it up\n",
    "print(sum(abs(cricket-worm)))"
   ]
  },
  {
   "cell_type": "markdown",
   "metadata": {},
   "source": [
    "However if you want the distance in a straight line then you need to take advantage of some tricks from pythagoras. \n",
    "\n",
    "Pythagoras' Theorem is used to calculate the side length of right-angled triangles.\n",
    "\n",
    "Graphically shown below:"
   ]
  },
  {
   "attachments": {
    "pythagorean-definition-02.png": {
     "image/png": "[encoded data removed]"
    }
   },
   "cell_type": "markdown",
   "metadata": {},
   "source": [
    "![pythagorean-definition-02.png](attachment:pythagorean-definition-02.png)"
   ]
  },
  {
   "cell_type": "markdown",
   "metadata": {},
   "source": [
    "The root of the sum of the squares of the number of steps in each direction is equivalent to the number of steps in a straight line. \n",
    "\n",
    "That number of steps is the distance. \n",
    "\n",
    "Or, taken another way, the side lengths *a* and *b* are the steps in the _x_ & _y_ direction, and the hypotenuse (longest side) *c* is the actual distance travelled\n",
    "\n",
    "We can apply this in python, for when we dont want to do the calculation manually."
   ]
  },
  {
   "cell_type": "code",
   "execution_count": 8,
   "metadata": {},
   "outputs": [
    {
     "name": "stdout",
     "output_type": "stream",
     "text": [
      "[3 4 0]\n",
      "[ 9 16  0]\n",
      "25\n",
      "5.0\n"
     ]
    }
   ],
   "source": [
    "## Application\n",
    "\n",
    "# using the diagram above to show the results\n",
    "test = np.array([3, 4, 0])\n",
    "print(test)\n",
    "# exploiting the numpy arrays to square all the values at the same time\n",
    "print(test * test)\n",
    "# Add them up to replicate the pythagoras method above and get the square of the distance travelled\n",
    "print(sum(test*test))\n",
    "# getting the distance travelled by square rooting the value\n",
    "print(np.sqrt(sum(test*test)))\n",
    "\n",
    "#def magnitude(an_array):\n",
    "    #Some code to get the magnitude\n",
    "    \n",
    "    "
   ]
  },
  {
   "cell_type": "markdown",
   "metadata": {},
   "source": [
    "Now if we were to swap the sign of one of the directions, so now instead of moving up 4 position in _y_ we instead move -4 position back. We would travel the same distance, but end up in a different place.\n",
    "\n",
    "You can test and confirm this by using the process outlined above and see you end up with the same number. "
   ]
  },
  {
   "cell_type": "code",
   "execution_count": 10,
   "metadata": {},
   "outputs": [],
   "source": [
    "test2 = np.array([3, -4, 0])\n",
    "\n",
    "# magnitude(test2)"
   ]
  },
  {
   "cell_type": "markdown",
   "metadata": {},
   "source": [
    "## Change over time\n",
    "    \n",
    "Its worth then thinking about how fast that movement happens. \n",
    "\n",
    "1. The distance is 2 metres, and it happens in one second, then they have moved at 2 metres per second. \n",
    "\n",
    "2. When moving half the distance, 1 metre per second:  1 metre in one second\n",
    "\n",
    "3. When taking twice as long, also 1 metre per second: 2 metres in two seconds\n",
    "\n",
    "To help demonstrate that the last two are identical, if you repeat the step in 2., what has happened.  \n"
   ]
  },
  {
   "cell_type": "markdown",
   "metadata": {},
   "source": [
    "## Perpendicular Non-interference\n",
    "\n",
    "This is a fancy name for the idea that the different components of a vector dont interact with one another. As a basic example, if you have a vector \n",
    "\\begin{equation}\n",
    "\\begin{pmatrix} 1 & 0  & 1 \\end{pmatrix}\n",
    "\\end{equation}\n",
    "\n",
    "and a vector \n",
    "\\begin{equation}\n",
    "\\begin{pmatrix} 0 & 2 & 0 \\end{pmatrix}\n",
    "\\end{equation}\n",
    "\n",
    "and you were to add/subtract them. The components would never interact. \n",
    "\n",
    "\\begin{equation}\n",
    " \\begin{pmatrix} 1 & 0  & 1 \\end{pmatrix} + \\begin{pmatrix}0  & 2 & 0 \\end{pmatrix}  =  \\begin{pmatrix} 1 & 2& 1\\end{pmatrix}\n",
    "\\end{equation}\n",
    "\n",
    "You'd end up with something like (1, 2, 1), where the *x* and *z* component of the first vector are unchanged, and the *y* component of the second is unchanged.\n"
   ]
  },
  {
   "cell_type": "markdown",
   "metadata": {},
   "source": [
    "## Applications\n",
    "This concept of non-interference simplifies a lot of things when dealing with a velocity.\n",
    "\n",
    "From an initial position of (1, 1, 1)m an object travels with a velocity (1, 0, 0) m/s\n",
    "\n",
    "After 1 second where is it?\n",
    "\n",
    "After 3 seconds where is it?\n",
    "\n",
    "We can answer this simple case manually, but when we start waiting for longer (or working with more complex velocities), we need to be able to instruct python to do it for us. "
   ]
  },
  {
   "cell_type": "code",
   "execution_count": 11,
   "metadata": {},
   "outputs": [
    {
     "name": "stdout",
     "output_type": "stream",
     "text": [
      "iteration 1\n",
      "[1 1 1]\n",
      "iteration 2\n",
      "[1 1 1]\n",
      "iteration 3\n",
      "[1 1 1]\n",
      "iteration 4\n",
      "[1 1 1]\n",
      "iteration 5\n",
      "[1 1 1]\n",
      "iteration 6\n",
      "[1 1 1]\n",
      "iteration 7\n",
      "[1 1 1]\n",
      "iteration 8\n",
      "[1 1 1]\n",
      "iteration 9\n",
      "[1 1 1]\n"
     ]
    }
   ],
   "source": [
    "position = np.array([1, 1, 1])\n",
    "velocity = np.array([1, 0 , 0])\n",
    "for i in range(1, 10):\n",
    "    # Add in regular process\n",
    "    print(\"iteration \" + str(i))\n",
    "    position = position\n",
    "    print(position)\n",
    "  "
   ]
  },
  {
   "cell_type": "markdown",
   "metadata": {},
   "source": [
    "This kind of process is straight line motion. This is how things work in deep space. If you fire a pellet into deep space, it will just keep going, at the same speed, forever. "
   ]
  },
  {
   "cell_type": "code",
   "execution_count": 19,
   "metadata": {},
   "outputs": [],
   "source": []
  },
  {
   "cell_type": "code",
   "execution_count": 23,
   "metadata": {},
   "outputs": [],
   "source": [
    "\n",
    "\n",
    "\n",
    "\n",
    "\n",
    "\n",
    "\n",
    "\n",
    "\n",
    "\n",
    "\n",
    "\n",
    "\n",
    "\n",
    "\n",
    "\n",
    "\n",
    "\n",
    "\n",
    "\n",
    "\n",
    "\n",
    "\n",
    "\n",
    "\n",
    "\n",
    "\n",
    "\n",
    "\n",
    "\n",
    "\n",
    "\n",
    "\n",
    "\n",
    "\n",
    "\n",
    "\n",
    "\n",
    "\n",
    "\n",
    "\n",
    "\n",
    "\n",
    "\n",
    "\n",
    "\n",
    "\n",
    "\n",
    "\n",
    "\n",
    "\n",
    "\n",
    "\n"
   ]
  },
  {
   "cell_type": "code",
   "execution_count": 13,
   "metadata": {},
   "outputs": [
    {
     "name": "stdout",
     "output_type": "stream",
     "text": [
      "[2 1 1]\n",
      "[3 1 1]\n",
      "[4 1 1]\n",
      "[5 1 1]\n",
      "[6 1 1]\n",
      "[7 1 1]\n",
      "[8 1 1]\n",
      "[9 1 1]\n",
      "[10  1  1]\n"
     ]
    },
    {
     "data": {
      "image/png": "[encoded data removed]",
      "text/plain": [
       "<Figure size 432x288 with 1 Axes>"
      ]
     },
     "metadata": {
      "needs_background": "light"
     },
     "output_type": "display_data"
    }
   ],
   "source": [
    "position = np.array([1, 1, 1])\n",
    "velocity = np.array([1, 0 , 0])\n",
    "positions = list()\n",
    "for i in range(1, 10):\n",
    "    positions.append(position)\n",
    "    position = position + velocity\n",
    "    print(position)\n",
    "\n",
    "show_vels(positions)    "
   ]
  },
  {
   "cell_type": "markdown",
   "metadata": {},
   "source": [
    "## Extension: Acceleration\n",
    "Where the displacement has a thing called velocity which can cause it to change over time. Velocity has the same, this is called acceleration. This is the rate at which the velocity changes. \n",
    "\n",
    "The biggest example in our lives is Gravity. This induces a constant acceleration downwards for all objects, and it's this constant downward acceleration which causes the bow shape in projectiles launched. "
   ]
  },
  {
   "attachments": {
    "7.png": {
     "image/png": "[encoded data removed]"
    }
   },
   "cell_type": "markdown",
   "metadata": {},
   "source": [
    "![7.png](attachment:7.png)"
   ]
  },
  {
   "cell_type": "markdown",
   "metadata": {},
   "source": [
    "This also exhibits this property of the non-interference of perpendicular components. Gravity only applies in one direction, _Down_. As such only the vertical _y_ component of the velocity changes. you will see that the horizontal component doesnt change across the whole process. "
   ]
  },
  {
   "cell_type": "code",
   "execution_count": 29,
   "metadata": {},
   "outputs": [
    {
     "data": {
      "image/png": "[encoded data removed]",
      "text/plain": [
       "<Figure size 432x288 with 1 Axes>"
      ]
     },
     "metadata": {
      "needs_background": "light"
     },
     "output_type": "display_data"
    }
   ],
   "source": [
    "position = np.array([1, 1, 1])\n",
    "velocity = np.array([1, 1 , 0])\n",
    "acceleration = np.array([0,-0.15,0])\n",
    "positions = list()\n",
    "for i in range(1, 10):\n",
    "    positions.append(position)\n",
    "    position = position + velocity\n",
    "    velocity = velocity + acceleration\n",
    "show_vels(positions)    "
   ]
  },
  {
   "cell_type": "code",
   "execution_count": null,
   "metadata": {},
   "outputs": [],
   "source": []
  },
  {
   "cell_type": "code",
   "execution_count": null,
   "metadata": {},
   "outputs": [],
   "source": []
  }
 ],
 "metadata": {
  "kernelspec": {
   "display_name": "Python 3",
   "language": "python",
   "name": "python3"
  },
  "language_info": {
   "codemirror_mode": {
    "name": "ipython",
    "version": 3
   },
   "file_extension": ".py",
   "mimetype": "text/x-python",
   "name": "python",
   "nbconvert_exporter": "python",
   "pygments_lexer": "ipython3",
   "version": "3.7.2"
  }
 },
 "nbformat": 4,
 "nbformat_minor": 4
}
